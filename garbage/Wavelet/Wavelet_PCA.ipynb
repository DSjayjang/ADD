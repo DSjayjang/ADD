{
 "cells": [
  {
   "cell_type": "code",
   "execution_count": 1,
   "id": "1e87e595",
   "metadata": {},
   "outputs": [],
   "source": [
    "import os\n",
    "import pandas as pd\n",
    "import numpy as np\n",
    "import matplotlib.pyplot as plt"
   ]
  },
  {
   "cell_type": "code",
   "execution_count": null,
   "id": "98f7e585",
   "metadata": {},
   "outputs": [],
   "source": [
    "os.chdir(r'C:\\Users\\user\\Desktop')"
   ]
  },
  {
   "cell_type": "code",
   "execution_count": 33,
   "id": "4acfe1dd",
   "metadata": {},
   "outputs": [],
   "source": [
    "data1 = pd.read_csv(\"data_250418/000_Et_H_CO_n.csv\", header = None)\n",
    "data2 = pd.read_csv(\"data_250418/002_Et_H_CO_H.csv\", header = None)\n",
    "data3 = pd.read_csv(\"data_250418/008_Et_H_CO_L.csv\", header = None)\n",
    "data4 = pd.read_csv(\"data_250418/028_Et_H_CO_M.csv\", header = None)\n"
   ]
  },
  {
   "cell_type": "code",
   "execution_count": 34,
   "id": "e4d232fe",
   "metadata": {},
   "outputs": [
    {
     "data": {
      "text/plain": [
       "(2970, 8)"
      ]
     },
     "execution_count": 34,
     "metadata": {},
     "output_type": "execute_result"
    }
   ],
   "source": [
    "data1 = data1.drop(columns = range(3))\n",
    "data1 = data1.values\n",
    "\n",
    "data1.shape"
   ]
  },
  {
   "cell_type": "code",
   "execution_count": 35,
   "id": "7b2ede8b",
   "metadata": {},
   "outputs": [
    {
     "data": {
      "text/plain": [
       "(2970, 8)"
      ]
     },
     "execution_count": 35,
     "metadata": {},
     "output_type": "execute_result"
    }
   ],
   "source": [
    "data2 = data2.drop(columns = range(3))\n",
    "data2 = data2.values\n",
    "\n",
    "data2.shape"
   ]
  },
  {
   "cell_type": "code",
   "execution_count": 36,
   "id": "7077755d",
   "metadata": {},
   "outputs": [
    {
     "data": {
      "text/plain": [
       "(2970, 8)"
      ]
     },
     "execution_count": 36,
     "metadata": {},
     "output_type": "execute_result"
    }
   ],
   "source": [
    "data3 = data3.drop(columns = range(3))\n",
    "data3 = data3.values\n",
    "\n",
    "data3.shape"
   ]
  },
  {
   "cell_type": "code",
   "execution_count": 37,
   "id": "1c241db5",
   "metadata": {},
   "outputs": [
    {
     "data": {
      "text/plain": [
       "(2970, 8)"
      ]
     },
     "execution_count": 37,
     "metadata": {},
     "output_type": "execute_result"
    }
   ],
   "source": [
    "data4 = data4.drop(columns = range(3))\n",
    "data4 = data4.values\n",
    "\n",
    "data4.shape"
   ]
  },
  {
   "cell_type": "code",
   "execution_count": 38,
   "id": "7ca2eca5",
   "metadata": {},
   "outputs": [],
   "source": [
    "n = 100\n",
    "err_sd = 30"
   ]
  },
  {
   "cell_type": "code",
   "execution_count": 47,
   "id": "452475f7",
   "metadata": {},
   "outputs": [],
   "source": [
    "data_arr1 = np.zeros([n, data1.shape[0], data1.shape[1]])\n",
    "data_arr2 = np.zeros([n, data2.shape[0], data2.shape[1]])\n",
    "data_arr3 = np.zeros([n, data3.shape[0], data3.shape[1]])\n",
    "data_arr4 = np.zeros([n, data4.shape[0], data4.shape[1]])"
   ]
  },
  {
   "cell_type": "code",
   "execution_count": 69,
   "id": "39e31caa",
   "metadata": {},
   "outputs": [],
   "source": [
    "for i in range(n):\n",
    "    np.random.seed(i)\n",
    "    data_arr1[i, :, :] = data1 + np.random.normal(0, err_sd, size = (data1.shape[0], data1.shape[1]))\n",
    "    data_arr2[i, :, :] = data2 + np.random.normal(0, err_sd, size = (data2.shape[0], data2.shape[1]))\n",
    "    data_arr3[i, :, :] = data3 + np.random.normal(0, err_sd, size = (data3.shape[0], data3.shape[1]))\n",
    "    data_arr4[i, :, :] = data4 + np.random.normal(0, err_sd, size = (data4.shape[0], data4.shape[1]))"
   ]
  },
  {
   "cell_type": "code",
   "execution_count": 87,
   "id": "10f7065f",
   "metadata": {},
   "outputs": [],
   "source": [
    "# data_original: 4개 가스의 모든 관측치를 담은 데이터 행렬\n",
    "data_original = np.zeros([4*n,  data1.shape[0], data1.shape[1]])\n",
    "\n",
    "data_original[:n, :, :] = data_arr1\n",
    "data_original[n:2*n, :, :] = data_arr2\n",
    "data_original[2*n:3*n, :, :] = data_arr3\n",
    "data_original[3*n:4*n, :, :] = data_arr4"
   ]
  },
  {
   "cell_type": "code",
   "execution_count": null,
   "id": "f703e00b",
   "metadata": {},
   "outputs": [],
   "source": [
    "# Wavelet PCA\n",
    "def Wave_PCA_Class(data_original, n):\n",
    "\n",
    "    n_samples = 4*n\n",
    "    n_sensors = 8\n",
    "    T_original = data1.shape[0]\n",
    "    T = 4096 # 2의 거듭제곱으로 조정 (2^12)\n",
    "\n",
    "    # 웨이블렛 계수 추출\n",
    "    # 센서당 추출할 계수 개수 (임의로 설정, 필요 시 조정)\n",
    "    \"\"\"library(wavethresh)\"\"\"\n",
    "    import pywt\n",
    "\n",
    "    # 데이터 길이 조정 (T_original -> T, 뒤에 0 추가)\n",
    "    data = np.zeros([n_samples, T, n_sensors])\n",
    "    for i in range(n_samples):\n",
    "        for j in range(n_sensors):\n",
    "            data[i, :T_original, j] = data_original[i, :, j] # 원래 데이터\n",
    "            data[i, (T_original + 1): T, j] = 0 # 뒤에 0으로 패딩\n",
    "\n",
    "    # 학습 레이블 (4가지 가스, 각 100개 샘플)\n",
    "    labels = np.repeat(np.arange(1, 5), n)\n",
    "\n",
    "    # 1. 학습 데이터에 웨이블렛 계수 추출\n",
    "    w_per_sensor = T_original\n",
    "    wavelet_features = np.zeros([n_samples, n_sensors * w_per_sensor])\n",
    "\n",
    "    for i in range(n_samples):\n",
    "        for j in range(n_sensors):\n",
    "            sensor_data = data[i, :, j]\n",
    "            dwt_result = "
   ]
  }
 ],
 "metadata": {
  "kernelspec": {
   "display_name": "base",
   "language": "python",
   "name": "python3"
  },
  "language_info": {
   "codemirror_mode": {
    "name": "ipython",
    "version": 3
   },
   "file_extension": ".py",
   "mimetype": "text/x-python",
   "name": "python",
   "nbconvert_exporter": "python",
   "pygments_lexer": "ipython3",
   "version": "3.12.7"
  }
 },
 "nbformat": 4,
 "nbformat_minor": 5
}
